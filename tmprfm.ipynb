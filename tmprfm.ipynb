{
 "cells": [
  {
   "cell_type": "code",
   "execution_count": 21,
   "metadata": {},
   "outputs": [
    {
     "name": "stdout",
     "output_type": "stream",
     "text": [
      "package 'tidyverse' successfully unpacked and MD5 sums checked\n",
      "\n",
      "The downloaded binary packages are in\n",
      "\tC:\\Users\\User\\AppData\\Local\\Temp\\Rtmpmms4se\\downloaded_packages\n"
     ]
    }
   ],
   "source": [
    "library(dplyr)\n",
    "library(ggplot2)"
   ]
  },
  {
   "cell_type": "code",
   "execution_count": 2,
   "metadata": {},
   "outputs": [],
   "source": [
    "data <- read.csv(\"data.csv\")"
   ]
  },
  {
   "cell_type": "code",
   "execution_count": 3,
   "metadata": {},
   "outputs": [
    {
     "name": "stdout",
     "output_type": "stream",
     "text": [
      "'data.frame':\t541909 obs. of  8 variables:\n",
      " $ InvoiceNo  : chr  \"536365\" \"536365\" \"536365\" \"536365\" ...\n",
      " $ StockCode  : chr  \"85123A\" \"71053\" \"84406B\" \"84029G\" ...\n",
      " $ Description: chr  \"WHITE HANGING HEART T-LIGHT HOLDER\" \"WHITE METAL LANTERN\" \"CREAM CUPID HEARTS COAT HANGER\" \"KNITTED UNION FLAG HOT WATER BOTTLE\" ...\n",
      " $ Quantity   : int  6 6 8 6 6 2 6 6 6 32 ...\n",
      " $ InvoiceDate: chr  \"12/1/2010 8:26\" \"12/1/2010 8:26\" \"12/1/2010 8:26\" \"12/1/2010 8:26\" ...\n",
      " $ UnitPrice  : num  2.55 3.39 2.75 3.39 3.39 7.65 4.25 1.85 1.85 1.69 ...\n",
      " $ CustomerID : int  17850 17850 17850 17850 17850 17850 17850 17850 17850 13047 ...\n",
      " $ Country    : chr  \"United Kingdom\" \"United Kingdom\" \"United Kingdom\" \"United Kingdom\" ...\n"
     ]
    }
   ],
   "source": [
    "str(data)"
   ]
  },
  {
   "cell_type": "code",
   "execution_count": 4,
   "metadata": {},
   "outputs": [
    {
     "data": {
      "text/plain": [
       "  InvoiceNo          StockCode         Description           Quantity        \n",
       " Length:541909      Length:541909      Length:541909      Min.   :-80995.00  \n",
       " Class :character   Class :character   Class :character   1st Qu.:     1.00  \n",
       " Mode  :character   Mode  :character   Mode  :character   Median :     3.00  \n",
       "                                                          Mean   :     9.55  \n",
       "                                                          3rd Qu.:    10.00  \n",
       "                                                          Max.   : 80995.00  \n",
       "                                                                             \n",
       " InvoiceDate          UnitPrice           CustomerID       Country         \n",
       " Length:541909      Min.   :-11062.06   Min.   :12346    Length:541909     \n",
       " Class :character   1st Qu.:     1.25   1st Qu.:13953    Class :character  \n",
       " Mode  :character   Median :     2.08   Median :15152    Mode  :character  \n",
       "                    Mean   :     4.61   Mean   :15288                      \n",
       "                    3rd Qu.:     4.13   3rd Qu.:16791                      \n",
       "                    Max.   : 38970.00   Max.   :18287                      \n",
       "                                        NA's   :135080                     "
      ]
     },
     "metadata": {},
     "output_type": "display_data"
    }
   ],
   "source": [
    "summary(data)"
   ]
  },
  {
   "cell_type": "markdown",
   "metadata": {},
   "source": [
    "# 去除異常值"
   ]
  },
  {
   "cell_type": "code",
   "execution_count": 5,
   "metadata": {},
   "outputs": [],
   "source": [
    "# 去除NA 值\n",
    "data<-na.omit(data)\n",
    "# 去掉UnitPrice <0的資料\n",
    "data <- data[data$UnitPrice>0,]\n",
    "# 去除 Quantity < 0 的資料\n",
    "data <- data[data$Quantity>0,]"
   ]
  },
  {
   "cell_type": "markdown",
   "metadata": {},
   "source": [
    "# 轉換資料型態"
   ]
  },
  {
   "cell_type": "code",
   "execution_count": 6,
   "metadata": {},
   "outputs": [],
   "source": [
    "data$InvoiceDate <-as.Date(data$InvoiceDate,format='%m/%d/%Y')\n",
    "\n",
    "data$CustomerID <- as.character(data$CustomerID)\n"
   ]
  },
  {
   "cell_type": "markdown",
   "metadata": {},
   "source": [
    "# 抓出RFM值"
   ]
  },
  {
   "cell_type": "code",
   "execution_count": 7,
   "metadata": {},
   "outputs": [
    {
     "name": "stderr",
     "output_type": "stream",
     "text": [
      "`summarise()` ungrouping output (override with `.groups` argument)\n",
      "\n"
     ]
    }
   ],
   "source": [
    "enddate <- as.Date(\"2011-12-10\")\n",
    "\n",
    "RFM <- data %>%\n",
    "  group_by(CustomerID) %>%\n",
    "  summarise(Frequency=n(),# number of customerID\n",
    "           Recency=as.numeric(enddate-max(InvoiceDate)), \n",
    "           Monetary=sum(Quantity*UnitPrice)/n_distinct(InvoiceNo) \n",
    "           # Average of each perchase amount\n",
    "         )"
   ]
  },
  {
   "cell_type": "code",
   "execution_count": 8,
   "metadata": {},
   "outputs": [
    {
     "data": {
      "text/html": [
       "<table>\n",
       "<caption>A tibble: 15 × 4</caption>\n",
       "<thead>\n",
       "\t<tr><th scope=col>CustomerID</th><th scope=col>Frequency</th><th scope=col>Recency</th><th scope=col>Monetary</th></tr>\n",
       "\t<tr><th scope=col>&lt;chr&gt;</th><th scope=col>&lt;int&gt;</th><th scope=col>&lt;dbl&gt;</th><th scope=col>&lt;dbl&gt;</th></tr>\n",
       "</thead>\n",
       "<tbody>\n",
       "\t<tr><td>12346</td><td>  1</td><td>326</td><td>77183.6000</td></tr>\n",
       "\t<tr><td>12347</td><td>182</td><td>  3</td><td>  615.7143</td></tr>\n",
       "\t<tr><td>12348</td><td> 31</td><td> 76</td><td>  449.3100</td></tr>\n",
       "\t<tr><td>12349</td><td> 73</td><td> 19</td><td> 1757.5500</td></tr>\n",
       "\t<tr><td>12350</td><td> 17</td><td>311</td><td>  334.4000</td></tr>\n",
       "\t<tr><td>12352</td><td> 85</td><td> 37</td><td>  313.2550</td></tr>\n",
       "\t<tr><td>12353</td><td>  4</td><td>205</td><td>   89.0000</td></tr>\n",
       "\t<tr><td>12354</td><td> 58</td><td>233</td><td> 1079.4000</td></tr>\n",
       "\t<tr><td>12355</td><td> 13</td><td>215</td><td>  459.4000</td></tr>\n",
       "\t<tr><td>12356</td><td> 59</td><td> 23</td><td>  937.1433</td></tr>\n",
       "\t<tr><td>12357</td><td>131</td><td> 34</td><td> 6207.6700</td></tr>\n",
       "\t<tr><td>12358</td><td> 19</td><td>  2</td><td>  584.0300</td></tr>\n",
       "\t<tr><td>12359</td><td>248</td><td> 58</td><td> 1593.1450</td></tr>\n",
       "\t<tr><td>12360</td><td>129</td><td> 53</td><td>  887.3533</td></tr>\n",
       "\t<tr><td>12361</td><td> 10</td><td>288</td><td>  189.9000</td></tr>\n",
       "</tbody>\n",
       "</table>\n"
      ],
      "text/latex": [
       "A tibble: 15 × 4\n",
       "\\begin{tabular}{llll}\n",
       " CustomerID & Frequency & Recency & Monetary\\\\\n",
       " <chr> & <int> & <dbl> & <dbl>\\\\\n",
       "\\hline\n",
       "\t 12346 &   1 & 326 & 77183.6000\\\\\n",
       "\t 12347 & 182 &   3 &   615.7143\\\\\n",
       "\t 12348 &  31 &  76 &   449.3100\\\\\n",
       "\t 12349 &  73 &  19 &  1757.5500\\\\\n",
       "\t 12350 &  17 & 311 &   334.4000\\\\\n",
       "\t 12352 &  85 &  37 &   313.2550\\\\\n",
       "\t 12353 &   4 & 205 &    89.0000\\\\\n",
       "\t 12354 &  58 & 233 &  1079.4000\\\\\n",
       "\t 12355 &  13 & 215 &   459.4000\\\\\n",
       "\t 12356 &  59 &  23 &   937.1433\\\\\n",
       "\t 12357 & 131 &  34 &  6207.6700\\\\\n",
       "\t 12358 &  19 &   2 &   584.0300\\\\\n",
       "\t 12359 & 248 &  58 &  1593.1450\\\\\n",
       "\t 12360 & 129 &  53 &   887.3533\\\\\n",
       "\t 12361 &  10 & 288 &   189.9000\\\\\n",
       "\\end{tabular}\n"
      ],
      "text/markdown": [
       "\n",
       "A tibble: 15 × 4\n",
       "\n",
       "| CustomerID &lt;chr&gt; | Frequency &lt;int&gt; | Recency &lt;dbl&gt; | Monetary &lt;dbl&gt; |\n",
       "|---|---|---|---|\n",
       "| 12346 |   1 | 326 | 77183.6000 |\n",
       "| 12347 | 182 |   3 |   615.7143 |\n",
       "| 12348 |  31 |  76 |   449.3100 |\n",
       "| 12349 |  73 |  19 |  1757.5500 |\n",
       "| 12350 |  17 | 311 |   334.4000 |\n",
       "| 12352 |  85 |  37 |   313.2550 |\n",
       "| 12353 |   4 | 205 |    89.0000 |\n",
       "| 12354 |  58 | 233 |  1079.4000 |\n",
       "| 12355 |  13 | 215 |   459.4000 |\n",
       "| 12356 |  59 |  23 |   937.1433 |\n",
       "| 12357 | 131 |  34 |  6207.6700 |\n",
       "| 12358 |  19 |   2 |   584.0300 |\n",
       "| 12359 | 248 |  58 |  1593.1450 |\n",
       "| 12360 | 129 |  53 |   887.3533 |\n",
       "| 12361 |  10 | 288 |   189.9000 |\n",
       "\n"
      ],
      "text/plain": [
       "   CustomerID Frequency Recency Monetary  \n",
       "1  12346        1       326     77183.6000\n",
       "2  12347      182         3       615.7143\n",
       "3  12348       31        76       449.3100\n",
       "4  12349       73        19      1757.5500\n",
       "5  12350       17       311       334.4000\n",
       "6  12352       85        37       313.2550\n",
       "7  12353        4       205        89.0000\n",
       "8  12354       58       233      1079.4000\n",
       "9  12355       13       215       459.4000\n",
       "10 12356       59        23       937.1433\n",
       "11 12357      131        34      6207.6700\n",
       "12 12358       19         2       584.0300\n",
       "13 12359      248        58      1593.1450\n",
       "14 12360      129        53       887.3533\n",
       "15 12361       10       288       189.9000"
      ]
     },
     "metadata": {},
     "output_type": "display_data"
    }
   ],
   "source": [
    "RFM[0:15,]"
   ]
  },
  {
   "cell_type": "markdown",
   "metadata": {},
   "source": [
    "# 觀察數據"
   ]
  },
  {
   "cell_type": "code",
   "execution_count": 29,
   "metadata": {
    "scrolled": true
   },
   "outputs": [
    {
     "data": {
      "image/png": "[encoded data removed]",
      "text/plain": [
       "Plot with title \"\""
      ]
     },
     "metadata": {
      "image/png": {
       "height": 420,
       "width": 420
      }
     },
     "output_type": "display_data"
    }
   ],
   "source": [
    "par(mfrow=c(1,2),pin=c(2.5,4))\n",
    "#Recency越小訂單數量越多，代表有成長趨勢\n",
    "hist(RFM$Recency,xlab=\"Recency\",main=\"\")\n",
    "#大部分客戶購買金額落在100~350 之間\n",
    "hist(sort(RFM$Monetary)[0:3600],xlab=\"Monetary\",main=\"\")\n"
   ]
  },
  {
   "cell_type": "code",
   "execution_count": 10,
   "metadata": {
    "scrolled": true
   },
   "outputs": [
    {
     "data": {
      "text/plain": [
       "  CustomerID          Frequency          Recency          Monetary       \n",
       " Length:4338        Min.   :   1.00   Min.   :  1.00   Min.   :    3.45  \n",
       " Class :character   1st Qu.:  17.00   1st Qu.: 18.00   1st Qu.:  178.62  \n",
       " Mode  :character   Median :  41.00   Median : 51.00   Median :  293.90  \n",
       "                    Mean   :  91.72   Mean   : 93.06   Mean   :  419.17  \n",
       "                    3rd Qu.: 100.00   3rd Qu.:142.75   3rd Qu.:  430.11  \n",
       "                    Max.   :7847.00   Max.   :374.00   Max.   :84236.25  "
      ]
     },
     "metadata": {},
     "output_type": "display_data"
    }
   ],
   "source": [
    "summary(RFM)"
   ]
  },
  {
   "cell_type": "markdown",
   "metadata": {},
   "source": [
    "# 把資料分成6等分，一份720筆"
   ]
  },
  {
   "cell_type": "code",
   "execution_count": 35,
   "metadata": {},
   "outputs": [
    {
     "data": {
      "text/html": [
       "723"
      ],
      "text/latex": [
       "723"
      ],
      "text/markdown": [
       "723"
      ],
      "text/plain": [
       "[1] 723"
      ]
     },
     "metadata": {},
     "output_type": "display_data"
    },
    {
     "data": {
      "text/html": [
       "11"
      ],
      "text/latex": [
       "11"
      ],
      "text/markdown": [
       "11"
      ],
      "text/plain": [
       "[1] 11"
      ]
     },
     "metadata": {},
     "output_type": "display_data"
    },
    {
     "data": {
      "text/html": [
       "23"
      ],
      "text/latex": [
       "23"
      ],
      "text/markdown": [
       "23"
      ],
      "text/plain": [
       "[1] 23"
      ]
     },
     "metadata": {},
     "output_type": "display_data"
    },
    {
     "data": {
      "text/html": [
       "41"
      ],
      "text/latex": [
       "41"
      ],
      "text/markdown": [
       "41"
      ],
      "text/plain": [
       "[1] 41"
      ]
     },
     "metadata": {},
     "output_type": "display_data"
    },
    {
     "data": {
      "text/html": [
       "73"
      ],
      "text/latex": [
       "73"
      ],
      "text/markdown": [
       "73"
      ],
      "text/plain": [
       "[1] 73"
      ]
     },
     "metadata": {},
     "output_type": "display_data"
    },
    {
     "data": {
      "text/html": [
       "139"
      ],
      "text/latex": [
       "139"
      ],
      "text/markdown": [
       "139"
      ],
      "text/plain": [
       "[1] 139"
      ]
     },
     "metadata": {},
     "output_type": "display_data"
    },
    {
     "data": {
      "text/html": [
       "972"
      ],
      "text/latex": [
       "972"
      ],
      "text/markdown": [
       "972"
      ],
      "text/plain": [
       "[1] 972"
      ]
     },
     "metadata": {},
     "output_type": "display_data"
    },
    {
     "name": "stdout",
     "output_type": "stream",
     "text": [
      "[1] \"----------Recency-----------------\"\n"
     ]
    },
    {
     "data": {
      "text/html": [
       "11"
      ],
      "text/latex": [
       "11"
      ],
      "text/markdown": [
       "11"
      ],
      "text/plain": [
       "[1] 11"
      ]
     },
     "metadata": {},
     "output_type": "display_data"
    },
    {
     "data": {
      "text/html": [
       "25"
      ],
      "text/latex": [
       "25"
      ],
      "text/markdown": [
       "25"
      ],
      "text/plain": [
       "[1] 25"
      ]
     },
     "metadata": {},
     "output_type": "display_data"
    },
    {
     "data": {
      "text/html": [
       "51"
      ],
      "text/latex": [
       "51"
      ],
      "text/markdown": [
       "51"
      ],
      "text/plain": [
       "[1] 51"
      ]
     },
     "metadata": {},
     "output_type": "display_data"
    },
    {
     "data": {
      "text/html": [
       "90"
      ],
      "text/latex": [
       "90"
      ],
      "text/markdown": [
       "90"
      ],
      "text/plain": [
       "[1] 90"
      ]
     },
     "metadata": {},
     "output_type": "display_data"
    },
    {
     "data": {
      "text/html": [
       "202"
      ],
      "text/latex": [
       "202"
      ],
      "text/markdown": [
       "202"
      ],
      "text/plain": [
       "[1] 202"
      ]
     },
     "metadata": {},
     "output_type": "display_data"
    },
    {
     "data": {
      "text/html": [
       "373"
      ],
      "text/latex": [
       "373"
      ],
      "text/markdown": [
       "373"
      ],
      "text/plain": [
       "[1] 373"
      ]
     },
     "metadata": {},
     "output_type": "display_data"
    },
    {
     "name": "stdout",
     "output_type": "stream",
     "text": [
      "[1] \"----------Monetary-----------------\"\n"
     ]
    },
    {
     "data": {
      "text/html": [
       "147.35"
      ],
      "text/latex": [
       "147.35"
      ],
      "text/markdown": [
       "147.35"
      ],
      "text/plain": [
       "[1] 147.35"
      ]
     },
     "metadata": {},
     "output_type": "display_data"
    },
    {
     "data": {
      "text/html": [
       "209.49"
      ],
      "text/latex": [
       "209.49"
      ],
      "text/markdown": [
       "209.49"
      ],
      "text/plain": [
       "[1] 209.49"
      ]
     },
     "metadata": {},
     "output_type": "display_data"
    },
    {
     "data": {
      "text/html": [
       "292.20375"
      ],
      "text/latex": [
       "292.20375"
      ],
      "text/markdown": [
       "292.20375"
      ],
      "text/plain": [
       "[1] 292.2038"
      ]
     },
     "metadata": {},
     "output_type": "display_data"
    },
    {
     "data": {
      "text/html": [
       "369.19875"
      ],
      "text/latex": [
       "369.19875"
      ],
      "text/markdown": [
       "369.19875"
      ],
      "text/plain": [
       "[1] 369.1988"
      ]
     },
     "metadata": {},
     "output_type": "display_data"
    },
    {
     "data": {
      "text/html": [
       "514.496923076923"
      ],
      "text/latex": [
       "514.496923076923"
      ],
      "text/markdown": [
       "514.496923076923"
      ],
      "text/plain": [
       "[1] 514.4969"
      ]
     },
     "metadata": {},
     "output_type": "display_data"
    },
    {
     "data": {
      "text/html": [
       "3571.565"
      ],
      "text/latex": [
       "3571.565"
      ],
      "text/markdown": [
       "3571.565"
      ],
      "text/plain": [
       "[1] 3571.565"
      ]
     },
     "metadata": {},
     "output_type": "display_data"
    }
   ],
   "source": [
    "nrow(RFM)/6\n",
    "sort(RFM$Frequency)[720]\n",
    "sort(RFM$Frequency)[1440]\n",
    "sort(RFM$Frequency)[2160]\n",
    "sort(RFM$Frequency)[2880]\n",
    "sort(RFM$Frequency)[3600]\n",
    "sort(RFM$Frequency)[4317]\n",
    "print(\"----------Recency-----------------\")\n",
    "sort(RFM$Recency)[720]\n",
    "sort(RFM$Recency)[1440]\n",
    "sort(RFM$Recency)[2160]\n",
    "sort(RFM$Recency)[2880]\n",
    "sort(RFM$Recency)[3600]\n",
    "sort(RFM$Recency)[4317]\n",
    "print(\"----------Monetary-----------------\")\n",
    "sort(RFM$Monetary)[720]\n",
    "sort(RFM$Monetary)[1440]\n",
    "sort(RFM$Monetary)[2160]\n",
    "sort(RFM$Monetary)[2880]\n",
    "sort(RFM$Monetary)[3600]\n",
    "sort(RFM$Monetary)[4317]"
   ]
  },
  {
   "cell_type": "code",
   "execution_count": 41,
   "metadata": {
    "scrolled": true
   },
   "outputs": [
    {
     "name": "stderr",
     "output_type": "stream",
     "text": [
      "`summarise()` regrouping output by 'Recency' (override with `.groups` argument)\n",
      "\n"
     ]
    },
    {
     "data": {
      "text/html": [
       "<table>\n",
       "<caption>A tibble: 36 × 4</caption>\n",
       "<thead>\n",
       "\t<tr><th scope=col>Recency</th><th scope=col>Frequency</th><th scope=col>quantity</th><th scope=col>client</th></tr>\n",
       "\t<tr><th scope=col>&lt;fct&gt;</th><th scope=col>&lt;fct&gt;</th><th scope=col>&lt;int&gt;</th><th scope=col>&lt;chr&gt;</th></tr>\n",
       "</thead>\n",
       "<tbody>\n",
       "\t<tr><td><span style=white-space:pre-wrap>&gt;202 天  </span></td><td><span style=white-space:pre-wrap>&gt;144  </span></td><td><span style=white-space:pre-wrap>  9</span></td><td>顧客人數</td></tr>\n",
       "\t<tr><td><span style=white-space:pre-wrap>&gt;202 天  </span></td><td>76-144</td><td> 31</td><td>顧客人數</td></tr>\n",
       "\t<tr><td><span style=white-space:pre-wrap>&gt;202 天  </span></td><td>43-76 </td><td> 71</td><td>顧客人數</td></tr>\n",
       "\t<tr><td><span style=white-space:pre-wrap>&gt;202 天  </span></td><td>24-43 </td><td>131</td><td>顧客人數</td></tr>\n",
       "\t<tr><td><span style=white-space:pre-wrap>&gt;202 天  </span></td><td>12-24 </td><td>215</td><td>顧客人數</td></tr>\n",
       "\t<tr><td><span style=white-space:pre-wrap>&gt;202 天  </span></td><td><span style=white-space:pre-wrap>&lt;12   </span></td><td>277</td><td>顧客人數</td></tr>\n",
       "\t<tr><td>90-202 天</td><td><span style=white-space:pre-wrap>&gt;144  </span></td><td> 32</td><td>顧客人數</td></tr>\n",
       "\t<tr><td>90-202 天</td><td>76-144</td><td> 87</td><td>顧客人數</td></tr>\n",
       "\t<tr><td>90-202 天</td><td>43-76 </td><td>121</td><td>顧客人數</td></tr>\n",
       "\t<tr><td>90-202 天</td><td>24-43 </td><td>159</td><td>顧客人數</td></tr>\n",
       "\t<tr><td>90-202 天</td><td>12-24 </td><td>158</td><td>顧客人數</td></tr>\n",
       "\t<tr><td>90-202 天</td><td><span style=white-space:pre-wrap>&lt;12   </span></td><td>158</td><td>顧客人數</td></tr>\n",
       "\t<tr><td>51-90 天 </td><td><span style=white-space:pre-wrap>&gt;144  </span></td><td> 59</td><td>顧客人數</td></tr>\n",
       "\t<tr><td>51-90 天 </td><td>76-144</td><td>117</td><td>顧客人數</td></tr>\n",
       "\t<tr><td>51-90 天 </td><td>43-76 </td><td>142</td><td>顧客人數</td></tr>\n",
       "\t<tr><td>51-90 天 </td><td>24-43 </td><td>151</td><td>顧客人數</td></tr>\n",
       "\t<tr><td>51-90 天 </td><td>12-24 </td><td>128</td><td>顧客人數</td></tr>\n",
       "\t<tr><td>51-90 天 </td><td><span style=white-space:pre-wrap>&lt;12   </span></td><td>116</td><td>顧客人數</td></tr>\n",
       "\t<tr><td>25-51 天 </td><td><span style=white-space:pre-wrap>&gt;144  </span></td><td>138</td><td>顧客人數</td></tr>\n",
       "\t<tr><td>25-51 天 </td><td>76-144</td><td>156</td><td>顧客人數</td></tr>\n",
       "\t<tr><td>25-51 天 </td><td>43-76 </td><td>137</td><td>顧客人數</td></tr>\n",
       "\t<tr><td>25-51 天 </td><td>24-43 </td><td>136</td><td>顧客人數</td></tr>\n",
       "\t<tr><td>25-51 天 </td><td>12-24 </td><td> 90</td><td>顧客人數</td></tr>\n",
       "\t<tr><td>25-51 天 </td><td><span style=white-space:pre-wrap>&lt;12   </span></td><td> 78</td><td>顧客人數</td></tr>\n",
       "\t<tr><td>11-25 天 </td><td><span style=white-space:pre-wrap>&gt;144  </span></td><td>178</td><td>顧客人數</td></tr>\n",
       "\t<tr><td>11-25 天 </td><td>76-144</td><td>151</td><td>顧客人數</td></tr>\n",
       "\t<tr><td>11-25 天 </td><td>43-76 </td><td>134</td><td>顧客人數</td></tr>\n",
       "\t<tr><td>11-25 天 </td><td>24-43 </td><td> 82</td><td>顧客人數</td></tr>\n",
       "\t<tr><td>11-25 天 </td><td>12-24 </td><td> 70</td><td>顧客人數</td></tr>\n",
       "\t<tr><td>11-25 天 </td><td><span style=white-space:pre-wrap>&lt;12   </span></td><td> 63</td><td>顧客人數</td></tr>\n",
       "\t<tr><td><span style=white-space:pre-wrap>0-11 天  </span></td><td><span style=white-space:pre-wrap>&gt;144  </span></td><td>318</td><td>顧客人數</td></tr>\n",
       "\t<tr><td>0-11 天  </td><td>76-144</td><td>167</td><td>顧客人數</td></tr>\n",
       "\t<tr><td>0-11 天  </td><td>43-76 </td><td>111</td><td>顧客人數</td></tr>\n",
       "\t<tr><td>0-11 天  </td><td>24-43 </td><td> 75</td><td>顧客人數</td></tr>\n",
       "\t<tr><td>0-11 天  </td><td>12-24 </td><td> 50</td><td>顧客人數</td></tr>\n",
       "\t<tr><td><span style=white-space:pre-wrap>0-11 天  </span></td><td><span style=white-space:pre-wrap>&lt;12   </span></td><td> 42</td><td>顧客人數</td></tr>\n",
       "</tbody>\n",
       "</table>\n"
      ],
      "text/latex": [
       "A tibble: 36 × 4\n",
       "\\begin{tabular}{llll}\n",
       " Recency & Frequency & quantity & client\\\\\n",
       " <fct> & <fct> & <int> & <chr>\\\\\n",
       "\\hline\n",
       "\t >202 天   & >144   &   9 & 顧客人數\\\\\n",
       "\t >202 天   & 76-144 &  31 & 顧客人數\\\\\n",
       "\t >202 天   & 43-76  &  71 & 顧客人數\\\\\n",
       "\t >202 天   & 24-43  & 131 & 顧客人數\\\\\n",
       "\t >202 天   & 12-24  & 215 & 顧客人數\\\\\n",
       "\t >202 天   & <12    & 277 & 顧客人數\\\\\n",
       "\t 90-202 天 & >144   &  32 & 顧客人數\\\\\n",
       "\t 90-202 天 & 76-144 &  87 & 顧客人數\\\\\n",
       "\t 90-202 天 & 43-76  & 121 & 顧客人數\\\\\n",
       "\t 90-202 天 & 24-43  & 159 & 顧客人數\\\\\n",
       "\t 90-202 天 & 12-24  & 158 & 顧客人數\\\\\n",
       "\t 90-202 天 & <12    & 158 & 顧客人數\\\\\n",
       "\t 51-90 天  & >144   &  59 & 顧客人數\\\\\n",
       "\t 51-90 天  & 76-144 & 117 & 顧客人數\\\\\n",
       "\t 51-90 天  & 43-76  & 142 & 顧客人數\\\\\n",
       "\t 51-90 天  & 24-43  & 151 & 顧客人數\\\\\n",
       "\t 51-90 天  & 12-24  & 128 & 顧客人數\\\\\n",
       "\t 51-90 天  & <12    & 116 & 顧客人數\\\\\n",
       "\t 25-51 天  & >144   & 138 & 顧客人數\\\\\n",
       "\t 25-51 天  & 76-144 & 156 & 顧客人數\\\\\n",
       "\t 25-51 天  & 43-76  & 137 & 顧客人數\\\\\n",
       "\t 25-51 天  & 24-43  & 136 & 顧客人數\\\\\n",
       "\t 25-51 天  & 12-24  &  90 & 顧客人數\\\\\n",
       "\t 25-51 天  & <12    &  78 & 顧客人數\\\\\n",
       "\t 11-25 天  & >144   & 178 & 顧客人數\\\\\n",
       "\t 11-25 天  & 76-144 & 151 & 顧客人數\\\\\n",
       "\t 11-25 天  & 43-76  & 134 & 顧客人數\\\\\n",
       "\t 11-25 天  & 24-43  &  82 & 顧客人數\\\\\n",
       "\t 11-25 天  & 12-24  &  70 & 顧客人數\\\\\n",
       "\t 11-25 天  & <12    &  63 & 顧客人數\\\\\n",
       "\t 0-11 天   & >144   & 318 & 顧客人數\\\\\n",
       "\t 0-11 天   & 76-144 & 167 & 顧客人數\\\\\n",
       "\t 0-11 天   & 43-76  & 111 & 顧客人數\\\\\n",
       "\t 0-11 天   & 24-43  &  75 & 顧客人數\\\\\n",
       "\t 0-11 天   & 12-24  &  50 & 顧客人數\\\\\n",
       "\t 0-11 天   & <12    &  42 & 顧客人數\\\\\n",
       "\\end{tabular}\n"
      ],
      "text/markdown": [
       "\n",
       "A tibble: 36 × 4\n",
       "\n",
       "| Recency &lt;fct&gt; | Frequency &lt;fct&gt; | quantity &lt;int&gt; | client &lt;chr&gt; |\n",
       "|---|---|---|---|\n",
       "| &gt;202 天   | &gt;144   |   9 | 顧客人數 |\n",
       "| &gt;202 天   | 76-144 |  31 | 顧客人數 |\n",
       "| &gt;202 天   | 43-76  |  71 | 顧客人數 |\n",
       "| &gt;202 天   | 24-43  | 131 | 顧客人數 |\n",
       "| &gt;202 天   | 12-24  | 215 | 顧客人數 |\n",
       "| &gt;202 天   | &lt;12    | 277 | 顧客人數 |\n",
       "| 90-202 天 | &gt;144   |  32 | 顧客人數 |\n",
       "| 90-202 天 | 76-144 |  87 | 顧客人數 |\n",
       "| 90-202 天 | 43-76  | 121 | 顧客人數 |\n",
       "| 90-202 天 | 24-43  | 159 | 顧客人數 |\n",
       "| 90-202 天 | 12-24  | 158 | 顧客人數 |\n",
       "| 90-202 天 | &lt;12    | 158 | 顧客人數 |\n",
       "| 51-90 天  | &gt;144   |  59 | 顧客人數 |\n",
       "| 51-90 天  | 76-144 | 117 | 顧客人數 |\n",
       "| 51-90 天  | 43-76  | 142 | 顧客人數 |\n",
       "| 51-90 天  | 24-43  | 151 | 顧客人數 |\n",
       "| 51-90 天  | 12-24  | 128 | 顧客人數 |\n",
       "| 51-90 天  | &lt;12    | 116 | 顧客人數 |\n",
       "| 25-51 天  | &gt;144   | 138 | 顧客人數 |\n",
       "| 25-51 天  | 76-144 | 156 | 顧客人數 |\n",
       "| 25-51 天  | 43-76  | 137 | 顧客人數 |\n",
       "| 25-51 天  | 24-43  | 136 | 顧客人數 |\n",
       "| 25-51 天  | 12-24  |  90 | 顧客人數 |\n",
       "| 25-51 天  | &lt;12    |  78 | 顧客人數 |\n",
       "| 11-25 天  | &gt;144   | 178 | 顧客人數 |\n",
       "| 11-25 天  | 76-144 | 151 | 顧客人數 |\n",
       "| 11-25 天  | 43-76  | 134 | 顧客人數 |\n",
       "| 11-25 天  | 24-43  |  82 | 顧客人數 |\n",
       "| 11-25 天  | 12-24  |  70 | 顧客人數 |\n",
       "| 11-25 天  | &lt;12    |  63 | 顧客人數 |\n",
       "| 0-11 天   | &gt;144   | 318 | 顧客人數 |\n",
       "| 0-11 天   | 76-144 | 167 | 顧客人數 |\n",
       "| 0-11 天   | 43-76  | 111 | 顧客人數 |\n",
       "| 0-11 天   | 24-43  |  75 | 顧客人數 |\n",
       "| 0-11 天   | 12-24  |  50 | 顧客人數 |\n",
       "| 0-11 天   | &lt;12    |  42 | 顧客人數 |\n",
       "\n"
      ],
      "text/plain": [
       "   Recency   Frequency quantity client  \n",
       "1  >202 天   >144        9      顧客人數\n",
       "2  >202 天   76-144     31      顧客人數\n",
       "3  >202 天   43-76      71      顧客人數\n",
       "4  >202 天   24-43     131      顧客人數\n",
       "5  >202 天   12-24     215      顧客人數\n",
       "6  >202 天   <12       277      顧客人數\n",
       "7  90-202 天 >144       32      顧客人數\n",
       "8  90-202 天 76-144     87      顧客人數\n",
       "9  90-202 天 43-76     121      顧客人數\n",
       "10 90-202 天 24-43     159      顧客人數\n",
       "11 90-202 天 12-24     158      顧客人數\n",
       "12 90-202 天 <12       158      顧客人數\n",
       "13 51-90 天  >144       59      顧客人數\n",
       "14 51-90 天  76-144    117      顧客人數\n",
       "15 51-90 天  43-76     142      顧客人數\n",
       "16 51-90 天  24-43     151      顧客人數\n",
       "17 51-90 天  12-24     128      顧客人數\n",
       "18 51-90 天  <12       116      顧客人數\n",
       "19 25-51 天  >144      138      顧客人數\n",
       "20 25-51 天  76-144    156      顧客人數\n",
       "21 25-51 天  43-76     137      顧客人數\n",
       "22 25-51 天  24-43     136      顧客人數\n",
       "23 25-51 天  12-24      90      顧客人數\n",
       "24 25-51 天  <12        78      顧客人數\n",
       "25 11-25 天  >144      178      顧客人數\n",
       "26 11-25 天  76-144    151      顧客人數\n",
       "27 11-25 天  43-76     134      顧客人數\n",
       "28 11-25 天  24-43      82      顧客人數\n",
       "29 11-25 天  12-24      70      顧客人數\n",
       "30 11-25 天  <12        63      顧客人數\n",
       "31 0-11 天   >144      318      顧客人數\n",
       "32 0-11 天   76-144    167      顧客人數\n",
       "33 0-11 天   43-76     111      顧客人數\n",
       "34 0-11 天   24-43      75      顧客人數\n",
       "35 0-11 天   12-24      50      顧客人數\n",
       "36 0-11 天   <12        42      顧客人數"
      ]
     },
     "metadata": {},
     "output_type": "display_data"
    }
   ],
   "source": [
    "# 抓出720筆、1440筆、2160筆、2880筆、3600筆、4320筆\n",
    "\n",
    "# 切割Frequency\n",
    "orders.segm <- RFM %>%\n",
    "  mutate(Frequency=ifelse(between(Frequency, 1, sort(RFM$Frequency)[720]), '<12',\n",
    "                          ifelse(between(Frequency, sort(RFM$Frequency)[720], sort(RFM$Frequency)[1440]), '12-24',\n",
    "                                 ifelse(between(Frequency, sort(RFM$Frequency)[1440], sort(RFM$Frequency)[2160]), '24-43',\n",
    "                                        ifelse(between(Frequency, sort(RFM$Frequency)[2160], sort(RFM$Frequency)[2880]), '43-76',\n",
    "                                               ifelse(between(Frequency, sort(RFM$Frequency)[2880], sort(RFM$Frequency)[3600]), '76-144', '>144')))))) %>%\n",
    "  # 切割Recency\n",
    "  mutate(Recency=ifelse(between(Recency, 0, sort(RFM$Recency)[720]), '0-11 天',\n",
    "                         ifelse(between(Recency, sort(RFM$Recency)[720], sort(RFM$Recency)[1440]), '11-25 天',\n",
    "                                ifelse(between(Recency, sort(RFM$Recency)[1440], sort(RFM$Recency)[2160]), '25-51 天',\n",
    "                                       ifelse(between(Recency, sort(RFM$Recency)[2160], sort(RFM$Recency)[2880]), '51-90 天',\n",
    "                                              ifelse(between(Recency, sort(RFM$Recency)[2880], sort(RFM$Recency)[3600]), '90-202 天', '>202 天'))))))  %>% \n",
    "  # 切割Monetary\n",
    "  mutate(Monetary=ifelse(between(Monetary, 0, sort(RFM$Monetary)[720]), '<147.35元',\n",
    "                         ifelse(between(Monetary, sort(RFM$Monetary)[720], sort(RFM$Monetary)[1440]), '147-209 元',\n",
    "                                ifelse(between(Monetary, sort(RFM$Monetary)[1440], sort(RFM$Monetary)[2160]), '209-292 元',\n",
    "                                       ifelse(between(Monetary, sort(RFM$Monetary)[2160], sort(RFM$Monetary)[2880]), '292-369 元',\n",
    "                                              ifelse(between(Monetary, sort(RFM$Monetary)[2880], sort(RFM$Monetary)[3600]), '369-514元', '>3517 元')))))) \n",
    "\n",
    "orders.segm$Frequency <- factor(orders.segm$Frequency, levels=c('>144', '76-144', '43-76', '24-43', '12-24', '<12'))\n",
    "orders.segm$Recency <- factor(orders.segm$Recency, levels=c('>202 天', '90-202 天', '51-90 天', '25-51 天', '11-25 天', '0-11 天'))\n",
    "lcg <- orders.segm %>%\n",
    "  group_by(Recency, Frequency) %>%\n",
    "  summarise(quantity=n()) %>%\n",
    "  mutate(client='顧客人數') %>%\n",
    "  ungroup()\n",
    "lcg"
   ]
  },
  {
   "cell_type": "markdown",
   "metadata": {},
   "source": [
    "# 繪製R&F分析圖"
   ]
  },
  {
   "cell_type": "code",
   "execution_count": 112,
   "metadata": {},
   "outputs": [
    {
     "data": {
      "text/html": [
       "<style>\n",
       ".list-inline {list-style: none; margin:0; padding: 0}\n",
       ".list-inline>li {display: inline-block}\n",
       ".list-inline>li:not(:last-child)::after {content: \"\\00b7\"; padding: 0 .5ex}\n",
       "</style>\n",
       "<ol class=list-inline><li>'一次性消費客人'</li><li>'先前客'</li><li>'常貴客'</li><li>'新顧客'</li></ol>\n"
      ],
      "text/latex": [
       "\\begin{enumerate*}\n",
       "\\item '一次性消費客人'\n",
       "\\item '先前客'\n",
       "\\item '常貴客'\n",
       "\\item '新顧客'\n",
       "\\end{enumerate*}\n"
      ],
      "text/markdown": [
       "1. '一次性消費客人'\n",
       "2. '先前客'\n",
       "3. '常貴客'\n",
       "4. '新顧客'\n",
       "\n",
       "\n"
      ],
      "text/plain": [
       "[1] \"一次性消費客人\" \"先前客\"         \"常貴客\"         \"新顧客\"        "
      ]
     },
     "metadata": {},
     "output_type": "display_data"
    },
    {
     "data": {
      "image/png": "[encoded data removed]",
      "text/plain": [
       "plot without title"
      ]
     },
     "metadata": {
      "image/png": {
       "height": 420,
       "width": 420
      }
     },
     "output_type": "display_data"
    }
   ],
   "source": [
    "\n",
    "\n",
    "lcg.adv <- lcg %>%\n",
    "  mutate(rec.type = ifelse(Recency %in% c(\">202 天\", \"90-202 天\", \"51-90 天\"), \"not recent\", \"recent\"),\n",
    "         freq.type = ifelse(Frequency %in% c(\">144\", \"76-144\", \"43-76\"), \"frequent\", \"infrequent\"))  %>% \n",
    "  mutate(customer.type = ifelse(interaction(rec.type, freq.type)=='not recent.frequent','先前客',\n",
    "                               ifelse(interaction(rec.type, freq.type)=='recent.frequent','常貴客',\n",
    "                                     ifelse(interaction(rec.type, freq.type)=='not recent.infrequent','一次性消費客人','新顧客'))))\n",
    "\n",
    "levels(factor(lcg.adv$customer.type))\n",
    "ggplot(lcg.adv, aes(x=client, y=quantity, fill=customer.type)) +\n",
    "  theme_bw() +\n",
    "  theme(panel.grid = element_blank()) +\n",
    "  geom_rect(aes(fill = customer.type), xmin = -Inf, xmax = Inf, ymin = -Inf, ymax = Inf, alpha = 0.1) +\n",
    "  facet_grid(Frequency ~ Recency) +\n",
    "  geom_bar(stat='identity', alpha=0.7) +\n",
    "  geom_text(aes(y=max(quantity)/2, label=quantity), size=4) +\n",
    "  ggtitle(\"R與F分析圖\") +\n",
    "  xlab(\"最近一次消費天數\") + ylab(\"購買頻率\")+ \n",
    "  theme(plot.title = element_text(color=\"3\", size=30 ),\n",
    "        axis.title.x = element_text(color=\"4\", size=20, face=\"bold\"),\n",
    "        axis.title.y = element_text(color=\"5\", size=20, face=\"bold\"))+\n",
    "  guides(fill=guide_legend(title=\"客群顏色指示表\"))+\n",
    "  scale_fill_brewer(palette='Set1',labels = levels(factor(lcg.adv$customer.type)))"
   ]
  }
 ],
 "metadata": {
  "kernelspec": {
   "display_name": "R",
   "language": "R",
   "name": "ir"
  },
  "language_info": {
   "codemirror_mode": "r",
   "file_extension": ".r",
   "mimetype": "text/x-r-source",
   "name": "R",
   "pygments_lexer": "r",
   "version": "4.0.0"
  }
 },
 "nbformat": 4,
 "nbformat_minor": 4
}
